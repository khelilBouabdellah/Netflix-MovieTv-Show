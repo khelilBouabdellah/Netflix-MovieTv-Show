{
 "cells": [
  {
   "cell_type": "code",
   "execution_count": 1,
   "id": "aaa2ac54",
   "metadata": {
    "execution": {
     "iopub.execute_input": "2022-05-17T14:20:06.685519Z",
     "iopub.status.busy": "2022-05-17T14:20:06.684402Z",
     "iopub.status.idle": "2022-05-17T14:20:07.683707Z",
     "shell.execute_reply": "2022-05-17T14:20:07.683108Z"
    },
    "papermill": {
     "duration": 1.056609,
     "end_time": "2022-05-17T14:20:07.686059",
     "exception": false,
     "start_time": "2022-05-17T14:20:06.629450",
     "status": "completed"
    },
    "tags": []
   },
   "outputs": [],
   "source": [
    "import pandas as pd\n",
    "import numpy as np\n",
    "import seaborn as sns\n",
    "import matplotlib.pyplot as plt\n",
    "%matplotlib inline\n",
    "plt.style.use(\"seaborn\")"
   ]
  },
  {
   "cell_type": "markdown",
   "id": "49609dfc",
   "metadata": {
    "papermill": {
     "duration": 0.039442,
     "end_time": "2022-05-17T14:20:07.767412",
     "exception": false,
     "start_time": "2022-05-17T14:20:07.727970",
     "status": "completed"
    },
    "tags": []
   },
   "source": [
    "## Reading Data"
   ]
  },
  {
   "cell_type": "code",
   "execution_count": 2,
   "id": "4266bff1",
   "metadata": {
    "execution": {
     "iopub.execute_input": "2022-05-17T14:20:07.848212Z",
     "iopub.status.busy": "2022-05-17T14:20:07.847919Z",
     "iopub.status.idle": "2022-05-17T14:20:08.017880Z",
     "shell.execute_reply": "2022-05-17T14:20:08.017049Z"
    },
    "papermill": {
     "duration": 0.213173,
     "end_time": "2022-05-17T14:20:08.020087",
     "exception": false,
     "start_time": "2022-05-17T14:20:07.806914",
     "status": "completed"
    },
    "scrolled": true,
    "tags": []
   },
   "outputs": [
    {
     "data": {
      "text/html": [
       "<div>\n",
       "<style scoped>\n",
       "    .dataframe tbody tr th:only-of-type {\n",
       "        vertical-align: middle;\n",
       "    }\n",
       "\n",
       "    .dataframe tbody tr th {\n",
       "        vertical-align: top;\n",
       "    }\n",
       "\n",
       "    .dataframe thead th {\n",
       "        text-align: right;\n",
       "    }\n",
       "</style>\n",
       "<table border=\"1\" class=\"dataframe\">\n",
       "  <thead>\n",
       "    <tr style=\"text-align: right;\">\n",
       "      <th></th>\n",
       "      <th>show_id</th>\n",
       "      <th>type</th>\n",
       "      <th>title</th>\n",
       "      <th>director</th>\n",
       "      <th>cast</th>\n",
       "      <th>country</th>\n",
       "      <th>date_added</th>\n",
       "      <th>release_year</th>\n",
       "      <th>rating</th>\n",
       "      <th>duration</th>\n",
       "      <th>listed_in</th>\n",
       "      <th>description</th>\n",
       "    </tr>\n",
       "  </thead>\n",
       "  <tbody>\n",
       "    <tr>\n",
       "      <th>0</th>\n",
       "      <td>s1</td>\n",
       "      <td>Movie</td>\n",
       "      <td>Dick Johnson Is Dead</td>\n",
       "      <td>Kirsten Johnson</td>\n",
       "      <td>NaN</td>\n",
       "      <td>United States</td>\n",
       "      <td>September 25, 2021</td>\n",
       "      <td>2020</td>\n",
       "      <td>PG-13</td>\n",
       "      <td>90 min</td>\n",
       "      <td>Documentaries</td>\n",
       "      <td>As her father nears the end of his life, filmm...</td>\n",
       "    </tr>\n",
       "    <tr>\n",
       "      <th>1</th>\n",
       "      <td>s2</td>\n",
       "      <td>TV Show</td>\n",
       "      <td>Blood &amp; Water</td>\n",
       "      <td>NaN</td>\n",
       "      <td>Ama Qamata, Khosi Ngema, Gail Mabalane, Thaban...</td>\n",
       "      <td>South Africa</td>\n",
       "      <td>September 24, 2021</td>\n",
       "      <td>2021</td>\n",
       "      <td>TV-MA</td>\n",
       "      <td>2 Seasons</td>\n",
       "      <td>International TV Shows, TV Dramas, TV Mysteries</td>\n",
       "      <td>After crossing paths at a party, a Cape Town t...</td>\n",
       "    </tr>\n",
       "    <tr>\n",
       "      <th>2</th>\n",
       "      <td>s3</td>\n",
       "      <td>TV Show</td>\n",
       "      <td>Ganglands</td>\n",
       "      <td>Julien Leclercq</td>\n",
       "      <td>Sami Bouajila, Tracy Gotoas, Samuel Jouy, Nabi...</td>\n",
       "      <td>NaN</td>\n",
       "      <td>September 24, 2021</td>\n",
       "      <td>2021</td>\n",
       "      <td>TV-MA</td>\n",
       "      <td>1 Season</td>\n",
       "      <td>Crime TV Shows, International TV Shows, TV Act...</td>\n",
       "      <td>To protect his family from a powerful drug lor...</td>\n",
       "    </tr>\n",
       "    <tr>\n",
       "      <th>3</th>\n",
       "      <td>s4</td>\n",
       "      <td>TV Show</td>\n",
       "      <td>Jailbirds New Orleans</td>\n",
       "      <td>NaN</td>\n",
       "      <td>NaN</td>\n",
       "      <td>NaN</td>\n",
       "      <td>September 24, 2021</td>\n",
       "      <td>2021</td>\n",
       "      <td>TV-MA</td>\n",
       "      <td>1 Season</td>\n",
       "      <td>Docuseries, Reality TV</td>\n",
       "      <td>Feuds, flirtations and toilet talk go down amo...</td>\n",
       "    </tr>\n",
       "    <tr>\n",
       "      <th>4</th>\n",
       "      <td>s5</td>\n",
       "      <td>TV Show</td>\n",
       "      <td>Kota Factory</td>\n",
       "      <td>NaN</td>\n",
       "      <td>Mayur More, Jitendra Kumar, Ranjan Raj, Alam K...</td>\n",
       "      <td>India</td>\n",
       "      <td>September 24, 2021</td>\n",
       "      <td>2021</td>\n",
       "      <td>TV-MA</td>\n",
       "      <td>2 Seasons</td>\n",
       "      <td>International TV Shows, Romantic TV Shows, TV ...</td>\n",
       "      <td>In a city of coaching centers known to train I...</td>\n",
       "    </tr>\n",
       "    <tr>\n",
       "      <th>5</th>\n",
       "      <td>s6</td>\n",
       "      <td>TV Show</td>\n",
       "      <td>Midnight Mass</td>\n",
       "      <td>Mike Flanagan</td>\n",
       "      <td>Kate Siegel, Zach Gilford, Hamish Linklater, H...</td>\n",
       "      <td>NaN</td>\n",
       "      <td>September 24, 2021</td>\n",
       "      <td>2021</td>\n",
       "      <td>TV-MA</td>\n",
       "      <td>1 Season</td>\n",
       "      <td>TV Dramas, TV Horror, TV Mysteries</td>\n",
       "      <td>The arrival of a charismatic young priest brin...</td>\n",
       "    </tr>\n",
       "    <tr>\n",
       "      <th>6</th>\n",
       "      <td>s7</td>\n",
       "      <td>Movie</td>\n",
       "      <td>My Little Pony: A New Generation</td>\n",
       "      <td>Robert Cullen, José Luis Ucha</td>\n",
       "      <td>Vanessa Hudgens, Kimiko Glenn, James Marsden, ...</td>\n",
       "      <td>NaN</td>\n",
       "      <td>September 24, 2021</td>\n",
       "      <td>2021</td>\n",
       "      <td>PG</td>\n",
       "      <td>91 min</td>\n",
       "      <td>Children &amp; Family Movies</td>\n",
       "      <td>Equestria's divided. But a bright-eyed hero be...</td>\n",
       "    </tr>\n",
       "    <tr>\n",
       "      <th>7</th>\n",
       "      <td>s8</td>\n",
       "      <td>Movie</td>\n",
       "      <td>Sankofa</td>\n",
       "      <td>Haile Gerima</td>\n",
       "      <td>Kofi Ghanaba, Oyafunmike Ogunlano, Alexandra D...</td>\n",
       "      <td>United States, Ghana, Burkina Faso, United Kin...</td>\n",
       "      <td>September 24, 2021</td>\n",
       "      <td>1993</td>\n",
       "      <td>TV-MA</td>\n",
       "      <td>125 min</td>\n",
       "      <td>Dramas, Independent Movies, International Movies</td>\n",
       "      <td>On a photo shoot in Ghana, an American model s...</td>\n",
       "    </tr>\n",
       "    <tr>\n",
       "      <th>8</th>\n",
       "      <td>s9</td>\n",
       "      <td>TV Show</td>\n",
       "      <td>The Great British Baking Show</td>\n",
       "      <td>Andy Devonshire</td>\n",
       "      <td>Mel Giedroyc, Sue Perkins, Mary Berry, Paul Ho...</td>\n",
       "      <td>United Kingdom</td>\n",
       "      <td>September 24, 2021</td>\n",
       "      <td>2021</td>\n",
       "      <td>TV-14</td>\n",
       "      <td>9 Seasons</td>\n",
       "      <td>British TV Shows, Reality TV</td>\n",
       "      <td>A talented batch of amateur bakers face off in...</td>\n",
       "    </tr>\n",
       "    <tr>\n",
       "      <th>9</th>\n",
       "      <td>s10</td>\n",
       "      <td>Movie</td>\n",
       "      <td>The Starling</td>\n",
       "      <td>Theodore Melfi</td>\n",
       "      <td>Melissa McCarthy, Chris O'Dowd, Kevin Kline, T...</td>\n",
       "      <td>United States</td>\n",
       "      <td>September 24, 2021</td>\n",
       "      <td>2021</td>\n",
       "      <td>PG-13</td>\n",
       "      <td>104 min</td>\n",
       "      <td>Comedies, Dramas</td>\n",
       "      <td>A woman adjusting to life after a loss contend...</td>\n",
       "    </tr>\n",
       "  </tbody>\n",
       "</table>\n",
       "</div>"
      ],
      "text/plain": [
       "  show_id     type                             title  \\\n",
       "0      s1    Movie              Dick Johnson Is Dead   \n",
       "1      s2  TV Show                     Blood & Water   \n",
       "2      s3  TV Show                         Ganglands   \n",
       "3      s4  TV Show             Jailbirds New Orleans   \n",
       "4      s5  TV Show                      Kota Factory   \n",
       "5      s6  TV Show                     Midnight Mass   \n",
       "6      s7    Movie  My Little Pony: A New Generation   \n",
       "7      s8    Movie                           Sankofa   \n",
       "8      s9  TV Show     The Great British Baking Show   \n",
       "9     s10    Movie                      The Starling   \n",
       "\n",
       "                        director  \\\n",
       "0                Kirsten Johnson   \n",
       "1                            NaN   \n",
       "2                Julien Leclercq   \n",
       "3                            NaN   \n",
       "4                            NaN   \n",
       "5                  Mike Flanagan   \n",
       "6  Robert Cullen, José Luis Ucha   \n",
       "7                   Haile Gerima   \n",
       "8                Andy Devonshire   \n",
       "9                 Theodore Melfi   \n",
       "\n",
       "                                                cast  \\\n",
       "0                                                NaN   \n",
       "1  Ama Qamata, Khosi Ngema, Gail Mabalane, Thaban...   \n",
       "2  Sami Bouajila, Tracy Gotoas, Samuel Jouy, Nabi...   \n",
       "3                                                NaN   \n",
       "4  Mayur More, Jitendra Kumar, Ranjan Raj, Alam K...   \n",
       "5  Kate Siegel, Zach Gilford, Hamish Linklater, H...   \n",
       "6  Vanessa Hudgens, Kimiko Glenn, James Marsden, ...   \n",
       "7  Kofi Ghanaba, Oyafunmike Ogunlano, Alexandra D...   \n",
       "8  Mel Giedroyc, Sue Perkins, Mary Berry, Paul Ho...   \n",
       "9  Melissa McCarthy, Chris O'Dowd, Kevin Kline, T...   \n",
       "\n",
       "                                             country          date_added  \\\n",
       "0                                      United States  September 25, 2021   \n",
       "1                                       South Africa  September 24, 2021   \n",
       "2                                                NaN  September 24, 2021   \n",
       "3                                                NaN  September 24, 2021   \n",
       "4                                              India  September 24, 2021   \n",
       "5                                                NaN  September 24, 2021   \n",
       "6                                                NaN  September 24, 2021   \n",
       "7  United States, Ghana, Burkina Faso, United Kin...  September 24, 2021   \n",
       "8                                     United Kingdom  September 24, 2021   \n",
       "9                                      United States  September 24, 2021   \n",
       "\n",
       "   release_year rating   duration  \\\n",
       "0          2020  PG-13     90 min   \n",
       "1          2021  TV-MA  2 Seasons   \n",
       "2          2021  TV-MA   1 Season   \n",
       "3          2021  TV-MA   1 Season   \n",
       "4          2021  TV-MA  2 Seasons   \n",
       "5          2021  TV-MA   1 Season   \n",
       "6          2021     PG     91 min   \n",
       "7          1993  TV-MA    125 min   \n",
       "8          2021  TV-14  9 Seasons   \n",
       "9          2021  PG-13    104 min   \n",
       "\n",
       "                                           listed_in  \\\n",
       "0                                      Documentaries   \n",
       "1    International TV Shows, TV Dramas, TV Mysteries   \n",
       "2  Crime TV Shows, International TV Shows, TV Act...   \n",
       "3                             Docuseries, Reality TV   \n",
       "4  International TV Shows, Romantic TV Shows, TV ...   \n",
       "5                 TV Dramas, TV Horror, TV Mysteries   \n",
       "6                           Children & Family Movies   \n",
       "7   Dramas, Independent Movies, International Movies   \n",
       "8                       British TV Shows, Reality TV   \n",
       "9                                   Comedies, Dramas   \n",
       "\n",
       "                                         description  \n",
       "0  As her father nears the end of his life, filmm...  \n",
       "1  After crossing paths at a party, a Cape Town t...  \n",
       "2  To protect his family from a powerful drug lor...  \n",
       "3  Feuds, flirtations and toilet talk go down amo...  \n",
       "4  In a city of coaching centers known to train I...  \n",
       "5  The arrival of a charismatic young priest brin...  \n",
       "6  Equestria's divided. But a bright-eyed hero be...  \n",
       "7  On a photo shoot in Ghana, an American model s...  \n",
       "8  A talented batch of amateur bakers face off in...  \n",
       "9  A woman adjusting to life after a loss contend...  "
      ]
     },
     "execution_count": 2,
     "metadata": {},
     "output_type": "execute_result"
    }
   ],
   "source": [
    "df = pd.read_csv(\"../input/netflix-movietv-show/netflix_titles.csv\")\n",
    "df.head(10)"
   ]
  },
  {
   "cell_type": "markdown",
   "id": "b1a7533d",
   "metadata": {
    "papermill": {
     "duration": 0.040161,
     "end_time": "2022-05-17T14:20:08.101210",
     "exception": false,
     "start_time": "2022-05-17T14:20:08.061049",
     "status": "completed"
    },
    "tags": []
   },
   "source": [
    "##  Data Exploration"
   ]
  },
  {
   "cell_type": "code",
   "execution_count": 3,
   "id": "1d19b444",
   "metadata": {
    "execution": {
     "iopub.execute_input": "2022-05-17T14:20:08.184957Z",
     "iopub.status.busy": "2022-05-17T14:20:08.184463Z",
     "iopub.status.idle": "2022-05-17T14:20:08.189138Z",
     "shell.execute_reply": "2022-05-17T14:20:08.188381Z"
    },
    "papermill": {
     "duration": 0.048926,
     "end_time": "2022-05-17T14:20:08.190754",
     "exception": false,
     "start_time": "2022-05-17T14:20:08.141828",
     "status": "completed"
    },
    "tags": []
   },
   "outputs": [
    {
     "data": {
      "text/plain": [
       "(8807, 12)"
      ]
     },
     "execution_count": 3,
     "metadata": {},
     "output_type": "execute_result"
    }
   ],
   "source": [
    "df.shape"
   ]
  },
  {
   "cell_type": "code",
   "execution_count": 4,
   "id": "0fc4ea3a",
   "metadata": {
    "execution": {
     "iopub.execute_input": "2022-05-17T14:20:08.274674Z",
     "iopub.status.busy": "2022-05-17T14:20:08.274267Z",
     "iopub.status.idle": "2022-05-17T14:20:08.303529Z",
     "shell.execute_reply": "2022-05-17T14:20:08.302221Z"
    },
    "papermill": {
     "duration": 0.073967,
     "end_time": "2022-05-17T14:20:08.305795",
     "exception": false,
     "start_time": "2022-05-17T14:20:08.231828",
     "status": "completed"
    },
    "tags": []
   },
   "outputs": [
    {
     "name": "stdout",
     "output_type": "stream",
     "text": [
      "<class 'pandas.core.frame.DataFrame'>\n",
      "RangeIndex: 8807 entries, 0 to 8806\n",
      "Data columns (total 12 columns):\n",
      " #   Column        Non-Null Count  Dtype \n",
      "---  ------        --------------  ----- \n",
      " 0   show_id       8807 non-null   object\n",
      " 1   type          8807 non-null   object\n",
      " 2   title         8807 non-null   object\n",
      " 3   director      6173 non-null   object\n",
      " 4   cast          7982 non-null   object\n",
      " 5   country       7976 non-null   object\n",
      " 6   date_added    8797 non-null   object\n",
      " 7   release_year  8807 non-null   int64 \n",
      " 8   rating        8803 non-null   object\n",
      " 9   duration      8804 non-null   object\n",
      " 10  listed_in     8807 non-null   object\n",
      " 11  description   8807 non-null   object\n",
      "dtypes: int64(1), object(11)\n",
      "memory usage: 825.8+ KB\n"
     ]
    }
   ],
   "source": [
    "df.info()"
   ]
  },
  {
   "cell_type": "markdown",
   "id": "02c2e91f",
   "metadata": {
    "papermill": {
     "duration": 0.051236,
     "end_time": "2022-05-17T14:20:08.412539",
     "exception": false,
     "start_time": "2022-05-17T14:20:08.361303",
     "status": "completed"
    },
    "tags": []
   },
   "source": [
    "### Checking for missing values"
   ]
  },
  {
   "cell_type": "code",
   "execution_count": 5,
   "id": "6e3c1a8d",
   "metadata": {
    "execution": {
     "iopub.execute_input": "2022-05-17T14:20:08.499495Z",
     "iopub.status.busy": "2022-05-17T14:20:08.498903Z",
     "iopub.status.idle": "2022-05-17T14:20:08.511435Z",
     "shell.execute_reply": "2022-05-17T14:20:08.510683Z"
    },
    "papermill": {
     "duration": 0.056546,
     "end_time": "2022-05-17T14:20:08.513158",
     "exception": false,
     "start_time": "2022-05-17T14:20:08.456612",
     "status": "completed"
    },
    "tags": []
   },
   "outputs": [
    {
     "data": {
      "text/plain": [
       "show_id            0\n",
       "type               0\n",
       "title              0\n",
       "director        2634\n",
       "cast             825\n",
       "country          831\n",
       "date_added        10\n",
       "release_year       0\n",
       "rating             4\n",
       "duration           3\n",
       "listed_in          0\n",
       "description        0\n",
       "dtype: int64"
      ]
     },
     "execution_count": 5,
     "metadata": {},
     "output_type": "execute_result"
    }
   ],
   "source": [
    "df.isnull().sum()"
   ]
  },
  {
   "cell_type": "markdown",
   "id": "add17a76",
   "metadata": {
    "papermill": {
     "duration": 0.041343,
     "end_time": "2022-05-17T14:20:08.596173",
     "exception": false,
     "start_time": "2022-05-17T14:20:08.554830",
     "status": "completed"
    },
    "tags": []
   },
   "source": [
    "Presentation of missing value"
   ]
  },
  {
   "cell_type": "code",
   "execution_count": 6,
   "id": "ea8d1ae8",
   "metadata": {
    "execution": {
     "iopub.execute_input": "2022-05-17T14:20:08.681248Z",
     "iopub.status.busy": "2022-05-17T14:20:08.680777Z",
     "iopub.status.idle": "2022-05-17T14:20:08.694398Z",
     "shell.execute_reply": "2022-05-17T14:20:08.693780Z"
    },
    "papermill": {
     "duration": 0.058503,
     "end_time": "2022-05-17T14:20:08.696129",
     "exception": false,
     "start_time": "2022-05-17T14:20:08.637626",
     "status": "completed"
    },
    "tags": []
   },
   "outputs": [
    {
     "data": {
      "text/plain": [
       "show_id          0.000000\n",
       "type             0.000000\n",
       "title            0.000000\n",
       "director        29.908028\n",
       "cast             9.367549\n",
       "country          9.435676\n",
       "date_added       0.113546\n",
       "release_year     0.000000\n",
       "rating           0.045418\n",
       "duration         0.034064\n",
       "listed_in        0.000000\n",
       "description      0.000000\n",
       "dtype: float64"
      ]
     },
     "execution_count": 6,
     "metadata": {},
     "output_type": "execute_result"
    }
   ],
   "source": [
    "#missing_value_sum= df.isnull().sum()\n",
    "#missing_value_percent=df.isnull().mean()*100\n",
    "#missing_value_percent\n",
    "#or\n",
    "df.isnull().sum()/df.shape[0]*100"
   ]
  },
  {
   "cell_type": "code",
   "execution_count": 7,
   "id": "f6355bf5",
   "metadata": {
    "execution": {
     "iopub.execute_input": "2022-05-17T14:20:08.782052Z",
     "iopub.status.busy": "2022-05-17T14:20:08.781782Z",
     "iopub.status.idle": "2022-05-17T14:20:09.650471Z",
     "shell.execute_reply": "2022-05-17T14:20:09.649602Z"
    },
    "papermill": {
     "duration": 0.915455,
     "end_time": "2022-05-17T14:20:09.653650",
     "exception": false,
     "start_time": "2022-05-17T14:20:08.738195",
     "status": "completed"
    },
    "tags": []
   },
   "outputs": [
    {
     "data": {
      "text/plain": [
       "Text(0.5, 1.0, 'Presentation of Missing values')"
      ]
     },
     "execution_count": 7,
     "metadata": {},
     "output_type": "execute_result"
    },
    {
     "data": {
      "image/png": "[encoded data removed]",
      "text/plain": [
       "<Figure size 1728x720 with 3 Axes>"
      ]
     },
     "metadata": {},
     "output_type": "display_data"
    }
   ],
   "source": [
    "import missingno as msno\n",
    "msno.bar(df)\n",
    "plt.title(\"Presentation of Missing values\",fontsize=40, color=\"red\")"
   ]
  },
  {
   "cell_type": "markdown",
   "id": "a76e2700",
   "metadata": {
    "papermill": {
     "duration": 0.044389,
     "end_time": "2022-05-17T14:20:09.742701",
     "exception": false,
     "start_time": "2022-05-17T14:20:09.698312",
     "status": "completed"
    },
    "tags": []
   },
   "source": [
    "We remark that we have missing values in columns direcor and cast but we can't fill this value, so we can drop them"
   ]
  },
  {
   "cell_type": "markdown",
   "id": "b5fbf60e",
   "metadata": {
    "papermill": {
     "duration": 0.045095,
     "end_time": "2022-05-17T14:20:09.832697",
     "exception": false,
     "start_time": "2022-05-17T14:20:09.787602",
     "status": "completed"
    },
    "tags": []
   },
   "source": [
    "for missing value in columns country,date added,rating we can fill them using most common value and mean "
   ]
  },
  {
   "cell_type": "markdown",
   "id": "73704fb2",
   "metadata": {
    "papermill": {
     "duration": 0.044409,
     "end_time": "2022-05-17T14:20:09.922070",
     "exception": false,
     "start_time": "2022-05-17T14:20:09.877661",
     "status": "completed"
    },
    "tags": []
   },
   "source": [
    "### Handling missing values"
   ]
  },
  {
   "cell_type": "code",
   "execution_count": 8,
   "id": "4b6e1514",
   "metadata": {
    "execution": {
     "iopub.execute_input": "2022-05-17T14:20:10.014681Z",
     "iopub.status.busy": "2022-05-17T14:20:10.014162Z",
     "iopub.status.idle": "2022-05-17T14:20:10.024671Z",
     "shell.execute_reply": "2022-05-17T14:20:10.024127Z"
    },
    "papermill": {
     "duration": 0.059487,
     "end_time": "2022-05-17T14:20:10.026651",
     "exception": false,
     "start_time": "2022-05-17T14:20:09.967164",
     "status": "completed"
    },
    "tags": []
   },
   "outputs": [],
   "source": [
    "df['country']=df['country'].fillna(df['country'].mode()[0])\n",
    "df['date_added']=df['date_added'].fillna(df['country'].mode()[0])\n",
    "df['rating']=df['rating'].fillna(df['rating'].mode()[0])"
   ]
  },
  {
   "cell_type": "code",
   "execution_count": 9,
   "id": "dc16e0b3",
   "metadata": {
    "execution": {
     "iopub.execute_input": "2022-05-17T14:20:10.117690Z",
     "iopub.status.busy": "2022-05-17T14:20:10.117176Z",
     "iopub.status.idle": "2022-05-17T14:20:10.130119Z",
     "shell.execute_reply": "2022-05-17T14:20:10.129126Z"
    },
    "papermill": {
     "duration": 0.060741,
     "end_time": "2022-05-17T14:20:10.132121",
     "exception": false,
     "start_time": "2022-05-17T14:20:10.071380",
     "status": "completed"
    },
    "tags": []
   },
   "outputs": [
    {
     "data": {
      "text/plain": [
       "show_id            0\n",
       "type               0\n",
       "title              0\n",
       "director        2634\n",
       "cast             825\n",
       "country            0\n",
       "date_added         0\n",
       "release_year       0\n",
       "rating             0\n",
       "duration           3\n",
       "listed_in          0\n",
       "description        0\n",
       "dtype: int64"
      ]
     },
     "execution_count": 9,
     "metadata": {},
     "output_type": "execute_result"
    }
   ],
   "source": [
    "df.isnull().sum()"
   ]
  },
  {
   "cell_type": "markdown",
   "id": "31289470",
   "metadata": {
    "papermill": {
     "duration": 0.04504,
     "end_time": "2022-05-17T14:20:10.222372",
     "exception": false,
     "start_time": "2022-05-17T14:20:10.177332",
     "status": "completed"
    },
    "tags": []
   },
   "source": [
    "Now we will drop the row missed value of director and cast"
   ]
  },
  {
   "cell_type": "code",
   "execution_count": 10,
   "id": "8b8fb441",
   "metadata": {
    "execution": {
     "iopub.execute_input": "2022-05-17T14:20:10.315126Z",
     "iopub.status.busy": "2022-05-17T14:20:10.314590Z",
     "iopub.status.idle": "2022-05-17T14:20:10.323720Z",
     "shell.execute_reply": "2022-05-17T14:20:10.323162Z"
    },
    "papermill": {
     "duration": 0.057751,
     "end_time": "2022-05-17T14:20:10.325640",
     "exception": false,
     "start_time": "2022-05-17T14:20:10.267889",
     "status": "completed"
    },
    "tags": []
   },
   "outputs": [],
   "source": [
    "df=df.dropna(subset=['director','cast','duration'])"
   ]
  },
  {
   "cell_type": "code",
   "execution_count": 11,
   "id": "af23d737",
   "metadata": {
    "execution": {
     "iopub.execute_input": "2022-05-17T14:20:10.418032Z",
     "iopub.status.busy": "2022-05-17T14:20:10.417739Z",
     "iopub.status.idle": "2022-05-17T14:20:10.428644Z",
     "shell.execute_reply": "2022-05-17T14:20:10.428024Z"
    },
    "papermill": {
     "duration": 0.059344,
     "end_time": "2022-05-17T14:20:10.430348",
     "exception": false,
     "start_time": "2022-05-17T14:20:10.371004",
     "status": "completed"
    },
    "tags": []
   },
   "outputs": [
    {
     "data": {
      "text/plain": [
       "show_id         0\n",
       "type            0\n",
       "title           0\n",
       "director        0\n",
       "cast            0\n",
       "country         0\n",
       "date_added      0\n",
       "release_year    0\n",
       "rating          0\n",
       "duration        0\n",
       "listed_in       0\n",
       "description     0\n",
       "dtype: int64"
      ]
     },
     "execution_count": 11,
     "metadata": {},
     "output_type": "execute_result"
    }
   ],
   "source": [
    "df.isnull().sum()"
   ]
  },
  {
   "cell_type": "markdown",
   "id": "88d9ef6e",
   "metadata": {
    "papermill": {
     "duration": 0.045876,
     "end_time": "2022-05-17T14:20:10.521709",
     "exception": false,
     "start_time": "2022-05-17T14:20:10.475833",
     "status": "completed"
    },
    "tags": []
   },
   "source": [
    "finally we dont have any missing values"
   ]
  },
  {
   "cell_type": "code",
   "execution_count": 12,
   "id": "afadc1ac",
   "metadata": {
    "execution": {
     "iopub.execute_input": "2022-05-17T14:20:10.614694Z",
     "iopub.status.busy": "2022-05-17T14:20:10.614420Z",
     "iopub.status.idle": "2022-05-17T14:20:10.634896Z",
     "shell.execute_reply": "2022-05-17T14:20:10.634150Z"
    },
    "papermill": {
     "duration": 0.069855,
     "end_time": "2022-05-17T14:20:10.636753",
     "exception": false,
     "start_time": "2022-05-17T14:20:10.566898",
     "status": "completed"
    },
    "tags": []
   },
   "outputs": [
    {
     "data": {
      "text/plain": [
       "0"
      ]
     },
     "execution_count": 12,
     "metadata": {},
     "output_type": "execute_result"
    }
   ],
   "source": [
    "df.duplicated().sum()"
   ]
  },
  {
   "cell_type": "markdown",
   "id": "3e0bfdfa",
   "metadata": {
    "papermill": {
     "duration": 0.04493,
     "end_time": "2022-05-17T14:20:10.728142",
     "exception": false,
     "start_time": "2022-05-17T14:20:10.683212",
     "status": "completed"
    },
    "tags": []
   },
   "source": [
    "### Cleaning the data"
   ]
  },
  {
   "cell_type": "code",
   "execution_count": 13,
   "id": "70aa02f3",
   "metadata": {
    "execution": {
     "iopub.execute_input": "2022-05-17T14:20:10.820036Z",
     "iopub.status.busy": "2022-05-17T14:20:10.819766Z",
     "iopub.status.idle": "2022-05-17T14:20:10.831814Z",
     "shell.execute_reply": "2022-05-17T14:20:10.831173Z"
    },
    "papermill": {
     "duration": 0.060068,
     "end_time": "2022-05-17T14:20:10.833581",
     "exception": false,
     "start_time": "2022-05-17T14:20:10.773513",
     "status": "completed"
    },
    "tags": []
   },
   "outputs": [
    {
     "data": {
      "text/plain": [
       "2              Crime TV Shows\n",
       "5                   TV Dramas\n",
       "6    Children & Family Movies\n",
       "7                      Dramas\n",
       "8            British TV Shows\n",
       "Name: Genre, dtype: object"
      ]
     },
     "execution_count": 13,
     "metadata": {},
     "output_type": "execute_result"
    }
   ],
   "source": [
    "df=df.rename(columns={\"listed_in\":\"Genre\"})\n",
    "df['Genre'] = df['Genre'].apply(lambda x: x.split(\",\")[0])\n",
    "df['Genre'].head()"
   ]
  },
  {
   "cell_type": "code",
   "execution_count": 14,
   "id": "e55fc071",
   "metadata": {
    "execution": {
     "iopub.execute_input": "2022-05-17T14:20:10.926057Z",
     "iopub.status.busy": "2022-05-17T14:20:10.925562Z",
     "iopub.status.idle": "2022-05-17T14:20:10.935885Z",
     "shell.execute_reply": "2022-05-17T14:20:10.935122Z"
    },
    "papermill": {
     "duration": 0.058576,
     "end_time": "2022-05-17T14:20:10.937652",
     "exception": false,
     "start_time": "2022-05-17T14:20:10.879076",
     "status": "completed"
    },
    "tags": []
   },
   "outputs": [
    {
     "data": {
      "text/plain": [
       "2    2021\n",
       "5    2021\n",
       "6    2021\n",
       "7    2021\n",
       "8    2021\n",
       "Name: year_add, dtype: object"
      ]
     },
     "execution_count": 14,
     "metadata": {},
     "output_type": "execute_result"
    }
   ],
   "source": [
    "df['year_add'] = df['date_added'].apply(lambda x: x.split(\" \")[-1])\n",
    "df['year_add'].head()"
   ]
  },
  {
   "cell_type": "code",
   "execution_count": 15,
   "id": "6febd6ad",
   "metadata": {
    "execution": {
     "iopub.execute_input": "2022-05-17T14:20:11.031229Z",
     "iopub.status.busy": "2022-05-17T14:20:11.030682Z",
     "iopub.status.idle": "2022-05-17T14:20:11.041061Z",
     "shell.execute_reply": "2022-05-17T14:20:11.040245Z"
    },
    "papermill": {
     "duration": 0.059381,
     "end_time": "2022-05-17T14:20:11.042907",
     "exception": false,
     "start_time": "2022-05-17T14:20:10.983526",
     "status": "completed"
    },
    "tags": []
   },
   "outputs": [
    {
     "data": {
      "text/plain": [
       "2    September\n",
       "5    September\n",
       "6    September\n",
       "7    September\n",
       "8    September\n",
       "Name: month_add, dtype: object"
      ]
     },
     "execution_count": 15,
     "metadata": {},
     "output_type": "execute_result"
    }
   ],
   "source": [
    "df['month_add'] = df['date_added'].apply(lambda x: x.split(\" \")[0])\n",
    "df['month_add'].head()"
   ]
  },
  {
   "cell_type": "code",
   "execution_count": 16,
   "id": "4f688ec4",
   "metadata": {
    "execution": {
     "iopub.execute_input": "2022-05-17T14:20:11.138151Z",
     "iopub.status.busy": "2022-05-17T14:20:11.137578Z",
     "iopub.status.idle": "2022-05-17T14:20:11.147970Z",
     "shell.execute_reply": "2022-05-17T14:20:11.147140Z"
    },
    "papermill": {
     "duration": 0.060638,
     "end_time": "2022-05-17T14:20:11.149795",
     "exception": false,
     "start_time": "2022-05-17T14:20:11.089157",
     "status": "completed"
    },
    "tags": []
   },
   "outputs": [
    {
     "data": {
      "text/plain": [
       "2     United States\n",
       "5     United States\n",
       "6     United States\n",
       "7     United States\n",
       "8    United Kingdom\n",
       "Name: country_main, dtype: object"
      ]
     },
     "execution_count": 16,
     "metadata": {},
     "output_type": "execute_result"
    }
   ],
   "source": [
    "df['country_main'] = df['country'].apply(lambda x: x.split(\",\")[0])\n",
    "df['country_main'].head()"
   ]
  },
  {
   "cell_type": "code",
   "execution_count": 17,
   "id": "c2f9caa1",
   "metadata": {
    "execution": {
     "iopub.execute_input": "2022-05-17T14:20:11.244440Z",
     "iopub.status.busy": "2022-05-17T14:20:11.243888Z",
     "iopub.status.idle": "2022-05-17T14:20:11.251041Z",
     "shell.execute_reply": "2022-05-17T14:20:11.250401Z"
    },
    "papermill": {
     "duration": 0.056642,
     "end_time": "2022-05-17T14:20:11.252776",
     "exception": false,
     "start_time": "2022-05-17T14:20:11.196134",
     "status": "completed"
    },
    "tags": []
   },
   "outputs": [
    {
     "data": {
      "text/plain": [
       "Movie      5519\n",
       "TV Show     178\n",
       "Name: type, dtype: int64"
      ]
     },
     "execution_count": 17,
     "metadata": {},
     "output_type": "execute_result"
    }
   ],
   "source": [
    "df.type.value_counts()"
   ]
  },
  {
   "cell_type": "code",
   "execution_count": 18,
   "id": "72d013f9",
   "metadata": {
    "execution": {
     "iopub.execute_input": "2022-05-17T14:20:11.348073Z",
     "iopub.status.busy": "2022-05-17T14:20:11.347534Z",
     "iopub.status.idle": "2022-05-17T14:20:11.363438Z",
     "shell.execute_reply": "2022-05-17T14:20:11.362634Z"
    },
    "papermill": {
     "duration": 0.065784,
     "end_time": "2022-05-17T14:20:11.365344",
     "exception": false,
     "start_time": "2022-05-17T14:20:11.299560",
     "status": "completed"
    },
    "scrolled": true,
    "tags": []
   },
   "outputs": [
    {
     "data": {
      "text/html": [
       "<div>\n",
       "<style scoped>\n",
       "    .dataframe tbody tr th:only-of-type {\n",
       "        vertical-align: middle;\n",
       "    }\n",
       "\n",
       "    .dataframe tbody tr th {\n",
       "        vertical-align: top;\n",
       "    }\n",
       "\n",
       "    .dataframe thead th {\n",
       "        text-align: right;\n",
       "    }\n",
       "</style>\n",
       "<table border=\"1\" class=\"dataframe\">\n",
       "  <thead>\n",
       "    <tr style=\"text-align: right;\">\n",
       "      <th></th>\n",
       "      <th>show_id</th>\n",
       "      <th>type</th>\n",
       "      <th>title</th>\n",
       "      <th>director</th>\n",
       "      <th>cast</th>\n",
       "      <th>country</th>\n",
       "      <th>date_added</th>\n",
       "      <th>release_year</th>\n",
       "      <th>rating</th>\n",
       "      <th>duration</th>\n",
       "      <th>Genre</th>\n",
       "      <th>description</th>\n",
       "      <th>year_add</th>\n",
       "      <th>month_add</th>\n",
       "      <th>country_main</th>\n",
       "    </tr>\n",
       "  </thead>\n",
       "  <tbody>\n",
       "    <tr>\n",
       "      <th>2</th>\n",
       "      <td>s3</td>\n",
       "      <td>TV Show</td>\n",
       "      <td>Ganglands</td>\n",
       "      <td>Julien Leclercq</td>\n",
       "      <td>Sami Bouajila, Tracy Gotoas, Samuel Jouy, Nabi...</td>\n",
       "      <td>United States</td>\n",
       "      <td>September 24, 2021</td>\n",
       "      <td>2021</td>\n",
       "      <td>TV-MA</td>\n",
       "      <td>1 Season</td>\n",
       "      <td>Crime TV Shows</td>\n",
       "      <td>To protect his family from a powerful drug lor...</td>\n",
       "      <td>2021</td>\n",
       "      <td>September</td>\n",
       "      <td>United States</td>\n",
       "    </tr>\n",
       "    <tr>\n",
       "      <th>5</th>\n",
       "      <td>s6</td>\n",
       "      <td>TV Show</td>\n",
       "      <td>Midnight Mass</td>\n",
       "      <td>Mike Flanagan</td>\n",
       "      <td>Kate Siegel, Zach Gilford, Hamish Linklater, H...</td>\n",
       "      <td>United States</td>\n",
       "      <td>September 24, 2021</td>\n",
       "      <td>2021</td>\n",
       "      <td>TV-MA</td>\n",
       "      <td>1 Season</td>\n",
       "      <td>TV Dramas</td>\n",
       "      <td>The arrival of a charismatic young priest brin...</td>\n",
       "      <td>2021</td>\n",
       "      <td>September</td>\n",
       "      <td>United States</td>\n",
       "    </tr>\n",
       "    <tr>\n",
       "      <th>6</th>\n",
       "      <td>s7</td>\n",
       "      <td>Movie</td>\n",
       "      <td>My Little Pony: A New Generation</td>\n",
       "      <td>Robert Cullen, José Luis Ucha</td>\n",
       "      <td>Vanessa Hudgens, Kimiko Glenn, James Marsden, ...</td>\n",
       "      <td>United States</td>\n",
       "      <td>September 24, 2021</td>\n",
       "      <td>2021</td>\n",
       "      <td>PG</td>\n",
       "      <td>91 min</td>\n",
       "      <td>Children &amp; Family Movies</td>\n",
       "      <td>Equestria's divided. But a bright-eyed hero be...</td>\n",
       "      <td>2021</td>\n",
       "      <td>September</td>\n",
       "      <td>United States</td>\n",
       "    </tr>\n",
       "    <tr>\n",
       "      <th>7</th>\n",
       "      <td>s8</td>\n",
       "      <td>Movie</td>\n",
       "      <td>Sankofa</td>\n",
       "      <td>Haile Gerima</td>\n",
       "      <td>Kofi Ghanaba, Oyafunmike Ogunlano, Alexandra D...</td>\n",
       "      <td>United States, Ghana, Burkina Faso, United Kin...</td>\n",
       "      <td>September 24, 2021</td>\n",
       "      <td>1993</td>\n",
       "      <td>TV-MA</td>\n",
       "      <td>125 min</td>\n",
       "      <td>Dramas</td>\n",
       "      <td>On a photo shoot in Ghana, an American model s...</td>\n",
       "      <td>2021</td>\n",
       "      <td>September</td>\n",
       "      <td>United States</td>\n",
       "    </tr>\n",
       "    <tr>\n",
       "      <th>8</th>\n",
       "      <td>s9</td>\n",
       "      <td>TV Show</td>\n",
       "      <td>The Great British Baking Show</td>\n",
       "      <td>Andy Devonshire</td>\n",
       "      <td>Mel Giedroyc, Sue Perkins, Mary Berry, Paul Ho...</td>\n",
       "      <td>United Kingdom</td>\n",
       "      <td>September 24, 2021</td>\n",
       "      <td>2021</td>\n",
       "      <td>TV-14</td>\n",
       "      <td>9 Seasons</td>\n",
       "      <td>British TV Shows</td>\n",
       "      <td>A talented batch of amateur bakers face off in...</td>\n",
       "      <td>2021</td>\n",
       "      <td>September</td>\n",
       "      <td>United Kingdom</td>\n",
       "    </tr>\n",
       "  </tbody>\n",
       "</table>\n",
       "</div>"
      ],
      "text/plain": [
       "  show_id     type                             title  \\\n",
       "2      s3  TV Show                         Ganglands   \n",
       "5      s6  TV Show                     Midnight Mass   \n",
       "6      s7    Movie  My Little Pony: A New Generation   \n",
       "7      s8    Movie                           Sankofa   \n",
       "8      s9  TV Show     The Great British Baking Show   \n",
       "\n",
       "                        director  \\\n",
       "2                Julien Leclercq   \n",
       "5                  Mike Flanagan   \n",
       "6  Robert Cullen, José Luis Ucha   \n",
       "7                   Haile Gerima   \n",
       "8                Andy Devonshire   \n",
       "\n",
       "                                                cast  \\\n",
       "2  Sami Bouajila, Tracy Gotoas, Samuel Jouy, Nabi...   \n",
       "5  Kate Siegel, Zach Gilford, Hamish Linklater, H...   \n",
       "6  Vanessa Hudgens, Kimiko Glenn, James Marsden, ...   \n",
       "7  Kofi Ghanaba, Oyafunmike Ogunlano, Alexandra D...   \n",
       "8  Mel Giedroyc, Sue Perkins, Mary Berry, Paul Ho...   \n",
       "\n",
       "                                             country          date_added  \\\n",
       "2                                      United States  September 24, 2021   \n",
       "5                                      United States  September 24, 2021   \n",
       "6                                      United States  September 24, 2021   \n",
       "7  United States, Ghana, Burkina Faso, United Kin...  September 24, 2021   \n",
       "8                                     United Kingdom  September 24, 2021   \n",
       "\n",
       "   release_year rating   duration                     Genre  \\\n",
       "2          2021  TV-MA   1 Season            Crime TV Shows   \n",
       "5          2021  TV-MA   1 Season                 TV Dramas   \n",
       "6          2021     PG     91 min  Children & Family Movies   \n",
       "7          1993  TV-MA    125 min                    Dramas   \n",
       "8          2021  TV-14  9 Seasons          British TV Shows   \n",
       "\n",
       "                                         description year_add  month_add  \\\n",
       "2  To protect his family from a powerful drug lor...     2021  September   \n",
       "5  The arrival of a charismatic young priest brin...     2021  September   \n",
       "6  Equestria's divided. But a bright-eyed hero be...     2021  September   \n",
       "7  On a photo shoot in Ghana, an American model s...     2021  September   \n",
       "8  A talented batch of amateur bakers face off in...     2021  September   \n",
       "\n",
       "     country_main  \n",
       "2   United States  \n",
       "5   United States  \n",
       "6   United States  \n",
       "7   United States  \n",
       "8  United Kingdom  "
      ]
     },
     "execution_count": 18,
     "metadata": {},
     "output_type": "execute_result"
    }
   ],
   "source": [
    "df.head()"
   ]
  },
  {
   "cell_type": "code",
   "execution_count": 19,
   "id": "1c8fc01a",
   "metadata": {
    "execution": {
     "iopub.execute_input": "2022-05-17T14:20:11.462382Z",
     "iopub.status.busy": "2022-05-17T14:20:11.461827Z",
     "iopub.status.idle": "2022-05-17T14:20:11.469546Z",
     "shell.execute_reply": "2022-05-17T14:20:11.468933Z"
    },
    "papermill": {
     "duration": 0.058343,
     "end_time": "2022-05-17T14:20:11.471270",
     "exception": false,
     "start_time": "2022-05-17T14:20:11.412927",
     "status": "completed"
    },
    "scrolled": true,
    "tags": []
   },
   "outputs": [
    {
     "data": {
      "text/plain": [
       "Dramas                          1586\n",
       "Comedies                        1184\n",
       "Action & Adventure               848\n",
       "Children & Family Movies         548\n",
       "Documentaries                    397\n",
       "Stand-Up Comedy                  309\n",
       "Horror Movies                    274\n",
       "International Movies             122\n",
       "Classic Movies                    73\n",
       "Thrillers                         65\n",
       "International TV Shows            59\n",
       "Crime TV Shows                    37\n",
       "Movies                            27\n",
       "British TV Shows                  21\n",
       "Independent Movies                20\n",
       "Anime Features                    19\n",
       "Music & Musicals                  18\n",
       "Sci-Fi & Fantasy                  13\n",
       "Cult Movies                       12\n",
       "Anime Series                      11\n",
       "Kids' TV                          11\n",
       "Docuseries                        10\n",
       "TV Shows                           9\n",
       "Stand-Up Comedy & Talk Shows       8\n",
       "Romantic Movies                    3\n",
       "TV Comedies                        3\n",
       "Classic & Cult TV                  2\n",
       "TV Dramas                          2\n",
       "TV Action & Adventure              2\n",
       "Reality TV                         1\n",
       "Romantic TV Shows                  1\n",
       "LGBTQ Movies                       1\n",
       "TV Horror                          1\n",
       "Name: Genre, dtype: int64"
      ]
     },
     "execution_count": 19,
     "metadata": {},
     "output_type": "execute_result"
    }
   ],
   "source": [
    "df['Genre'].value_counts()"
   ]
  },
  {
   "cell_type": "markdown",
   "id": "25a14e18",
   "metadata": {
    "papermill": {
     "duration": 0.047409,
     "end_time": "2022-05-17T14:20:11.566306",
     "exception": false,
     "start_time": "2022-05-17T14:20:11.518897",
     "status": "completed"
    },
    "tags": []
   },
   "source": [
    "we will separate our data to movie and tv show"
   ]
  },
  {
   "cell_type": "code",
   "execution_count": 20,
   "id": "f571b974",
   "metadata": {
    "execution": {
     "iopub.execute_input": "2022-05-17T14:20:11.664336Z",
     "iopub.status.busy": "2022-05-17T14:20:11.663463Z",
     "iopub.status.idle": "2022-05-17T14:20:11.672553Z",
     "shell.execute_reply": "2022-05-17T14:20:11.672031Z"
    },
    "papermill": {
     "duration": 0.059978,
     "end_time": "2022-05-17T14:20:11.674428",
     "exception": false,
     "start_time": "2022-05-17T14:20:11.614450",
     "status": "completed"
    },
    "tags": []
   },
   "outputs": [],
   "source": [
    "movie_df=df[df['type']=='Movie']\n",
    "tv_df=df[df['type']=='TV Show']"
   ]
  },
  {
   "cell_type": "markdown",
   "id": "71d1af22",
   "metadata": {
    "papermill": {
     "duration": 0.047359,
     "end_time": "2022-05-17T14:20:11.769595",
     "exception": false,
     "start_time": "2022-05-17T14:20:11.722236",
     "status": "completed"
    },
    "tags": []
   },
   "source": [
    "### Exploratory Data"
   ]
  },
  {
   "cell_type": "markdown",
   "id": "f8b9d440",
   "metadata": {
    "papermill": {
     "duration": 0.047548,
     "end_time": "2022-05-17T14:20:11.864944",
     "exception": false,
     "start_time": "2022-05-17T14:20:11.817396",
     "status": "completed"
    },
    "tags": []
   },
   "source": [
    "#### Movie & TV Show"
   ]
  },
  {
   "cell_type": "code",
   "execution_count": 21,
   "id": "db20480e",
   "metadata": {
    "execution": {
     "iopub.execute_input": "2022-05-17T14:20:11.962028Z",
     "iopub.status.busy": "2022-05-17T14:20:11.961497Z",
     "iopub.status.idle": "2022-05-17T14:20:11.966642Z",
     "shell.execute_reply": "2022-05-17T14:20:11.966074Z"
    },
    "papermill": {
     "duration": 0.055799,
     "end_time": "2022-05-17T14:20:11.968355",
     "exception": false,
     "start_time": "2022-05-17T14:20:11.912556",
     "status": "completed"
    },
    "tags": []
   },
   "outputs": [
    {
     "data": {
      "text/plain": [
       "(5519, 15)"
      ]
     },
     "execution_count": 21,
     "metadata": {},
     "output_type": "execute_result"
    }
   ],
   "source": [
    "#movie_df.head()\n",
    "#tv_df.head()\n",
    "movie_df.shape\n"
   ]
  },
  {
   "cell_type": "code",
   "execution_count": 22,
   "id": "3360657e",
   "metadata": {
    "execution": {
     "iopub.execute_input": "2022-05-17T14:20:12.070019Z",
     "iopub.status.busy": "2022-05-17T14:20:12.069496Z",
     "iopub.status.idle": "2022-05-17T14:20:12.074689Z",
     "shell.execute_reply": "2022-05-17T14:20:12.074139Z"
    },
    "papermill": {
     "duration": 0.05833,
     "end_time": "2022-05-17T14:20:12.076395",
     "exception": false,
     "start_time": "2022-05-17T14:20:12.018065",
     "status": "completed"
    },
    "tags": []
   },
   "outputs": [
    {
     "data": {
      "text/plain": [
       "(178, 15)"
      ]
     },
     "execution_count": 22,
     "metadata": {},
     "output_type": "execute_result"
    }
   ],
   "source": [
    "tv_df.shape"
   ]
  },
  {
   "cell_type": "markdown",
   "id": "628e4276",
   "metadata": {
    "papermill": {
     "duration": 0.049252,
     "end_time": "2022-05-17T14:20:12.174458",
     "exception": false,
     "start_time": "2022-05-17T14:20:12.125206",
     "status": "completed"
    },
    "tags": []
   },
   "source": [
    "we have 5522 Movie and 178 TV Show "
   ]
  },
  {
   "cell_type": "markdown",
   "id": "5cc1e339",
   "metadata": {
    "papermill": {
     "duration": 0.048003,
     "end_time": "2022-05-17T14:20:12.270818",
     "exception": false,
     "start_time": "2022-05-17T14:20:12.222815",
     "status": "completed"
    },
    "tags": []
   },
   "source": [
    "Presentation graphic"
   ]
  },
  {
   "cell_type": "code",
   "execution_count": 23,
   "id": "f2c72791",
   "metadata": {
    "execution": {
     "iopub.execute_input": "2022-05-17T14:20:12.369066Z",
     "iopub.status.busy": "2022-05-17T14:20:12.368793Z",
     "iopub.status.idle": "2022-05-17T14:20:12.542570Z",
     "shell.execute_reply": "2022-05-17T14:20:12.541967Z"
    },
    "papermill": {
     "duration": 0.225323,
     "end_time": "2022-05-17T14:20:12.544479",
     "exception": false,
     "start_time": "2022-05-17T14:20:12.319156",
     "status": "completed"
    },
    "tags": []
   },
   "outputs": [
    {
     "data": {
      "text/plain": [
       "<AxesSubplot:xlabel='type', ylabel='count'>"
      ]
     },
     "execution_count": 23,
     "metadata": {},
     "output_type": "execute_result"
    },
    {
     "data": {
      "image/png": "[encoded data removed]",
      "text/plain": [
       "<Figure size 576x396 with 1 Axes>"
      ]
     },
     "metadata": {},
     "output_type": "display_data"
    }
   ],
   "source": [
    "sns.set(style='darkgrid')\n",
    "sns.countplot(x='type',data=df)\n"
   ]
  },
  {
   "cell_type": "markdown",
   "id": "6b427939",
   "metadata": {
    "papermill": {
     "duration": 0.049534,
     "end_time": "2022-05-17T14:20:12.643401",
     "exception": false,
     "start_time": "2022-05-17T14:20:12.593867",
     "status": "completed"
    },
    "tags": []
   },
   "source": [
    "there are more movie than tv show on Netflix"
   ]
  },
  {
   "cell_type": "markdown",
   "id": "3e7c47e0",
   "metadata": {
    "papermill": {
     "duration": 0.049479,
     "end_time": "2022-05-17T14:20:12.743264",
     "exception": false,
     "start_time": "2022-05-17T14:20:12.693785",
     "status": "completed"
    },
    "tags": []
   },
   "source": [
    "#### Analysis Rating for Movie"
   ]
  },
  {
   "cell_type": "markdown",
   "id": "6fb3e1cb",
   "metadata": {
    "papermill": {
     "duration": 0.049508,
     "end_time": "2022-05-17T14:20:12.842302",
     "exception": false,
     "start_time": "2022-05-17T14:20:12.792794",
     "status": "completed"
    },
    "tags": []
   },
   "source": [
    "Ratings are not designed to indicate that films are appropriate or inappropriate, they are simply a way of saying what kind of content is included in the movie to give parents a chance to make informed decisions on what they are allowing their children to watch."
   ]
  },
  {
   "cell_type": "code",
   "execution_count": 24,
   "id": "85c63093",
   "metadata": {
    "execution": {
     "iopub.execute_input": "2022-05-17T14:20:12.943022Z",
     "iopub.status.busy": "2022-05-17T14:20:12.942442Z",
     "iopub.status.idle": "2022-05-17T14:20:13.216773Z",
     "shell.execute_reply": "2022-05-17T14:20:13.215848Z"
    },
    "papermill": {
     "duration": 0.327323,
     "end_time": "2022-05-17T14:20:13.218859",
     "exception": false,
     "start_time": "2022-05-17T14:20:12.891536",
     "status": "completed"
    },
    "tags": []
   },
   "outputs": [
    {
     "data": {
      "text/plain": [
       "<AxesSubplot:xlabel='rating', ylabel='count'>"
      ]
     },
     "execution_count": 24,
     "metadata": {},
     "output_type": "execute_result"
    },
    {
     "data": {
      "image/png": "[encoded data removed]",
      "text/plain": [
       "<Figure size 864x720 with 1 Axes>"
      ]
     },
     "metadata": {},
     "output_type": "display_data"
    }
   ],
   "source": [
    "plt.figure(figsize=(12,10))\n",
    "sns.set(style='darkgrid')\n",
    "sns.countplot(x='rating',data=movie_df,order= movie_df['rating'].value_counts().index[0:15])"
   ]
  },
  {
   "cell_type": "markdown",
   "id": "560c82b7",
   "metadata": {
    "papermill": {
     "duration": 0.050621,
     "end_time": "2022-05-17T14:20:13.320379",
     "exception": false,
     "start_time": "2022-05-17T14:20:13.269758",
     "status": "completed"
    },
    "tags": []
   },
   "source": [
    "The largest count of movies are made with the 'TV-MA' rating, \"TV-MA\" is a rating assigned by the TV Parental Guidelines to a television program that was designed for mature audiences only"
   ]
  },
  {
   "cell_type": "markdown",
   "id": "4f0d0e77",
   "metadata": {
    "papermill": {
     "duration": 0.050487,
     "end_time": "2022-05-17T14:20:13.421825",
     "exception": false,
     "start_time": "2022-05-17T14:20:13.371338",
     "status": "completed"
    },
    "tags": []
   },
   "source": [
    "Second largest is the 'TV-14' stands for content that may be inappropriate for children younger than 14 years of age.\n"
   ]
  },
  {
   "cell_type": "markdown",
   "id": "dd2860f8",
   "metadata": {
    "papermill": {
     "duration": 0.050514,
     "end_time": "2022-05-17T14:20:13.523512",
     "exception": false,
     "start_time": "2022-05-17T14:20:13.472998",
     "status": "completed"
    },
    "tags": []
   },
   "source": [
    "Third largest is the very popular 'R' rating.An R-rated film is a film that has been assessed as having material which may be unsuitable for children under the age of 17."
   ]
  },
  {
   "cell_type": "markdown",
   "id": "1744277f",
   "metadata": {
    "papermill": {
     "duration": 0.050372,
     "end_time": "2022-05-17T14:20:13.624805",
     "exception": false,
     "start_time": "2022-05-17T14:20:13.574433",
     "status": "completed"
    },
    "tags": []
   },
   "source": [
    "Rating for TV Show"
   ]
  },
  {
   "cell_type": "code",
   "execution_count": 25,
   "id": "34bc1dd1",
   "metadata": {
    "execution": {
     "iopub.execute_input": "2022-05-17T14:20:13.728683Z",
     "iopub.status.busy": "2022-05-17T14:20:13.728407Z",
     "iopub.status.idle": "2022-05-17T14:20:13.944118Z",
     "shell.execute_reply": "2022-05-17T14:20:13.943336Z"
    },
    "papermill": {
     "duration": 0.270467,
     "end_time": "2022-05-17T14:20:13.945999",
     "exception": false,
     "start_time": "2022-05-17T14:20:13.675532",
     "status": "completed"
    },
    "tags": []
   },
   "outputs": [
    {
     "data": {
      "text/plain": [
       "<AxesSubplot:xlabel='rating', ylabel='count'>"
      ]
     },
     "execution_count": 25,
     "metadata": {},
     "output_type": "execute_result"
    },
    {
     "data": {
      "image/png": "[encoded data removed]",
      "text/plain": [
       "<Figure size 864x720 with 1 Axes>"
      ]
     },
     "metadata": {},
     "output_type": "display_data"
    }
   ],
   "source": [
    "plt.figure(figsize=(12,10))\n",
    "sns.set(style='darkgrid')\n",
    "sns.countplot(x='rating',data=tv_df,order= tv_df['rating'].value_counts().index[0:15])"
   ]
  },
  {
   "cell_type": "markdown",
   "id": "16ca39c8",
   "metadata": {
    "papermill": {
     "duration": 0.053026,
     "end_time": "2022-05-17T14:20:14.052808",
     "exception": false,
     "start_time": "2022-05-17T14:20:13.999782",
     "status": "completed"
    },
    "tags": []
   },
   "source": [
    "Most of the TV Shows has 'TV-14' ratings which stands for the content can be inappropriate for children under 14 years of age.\n",
    "atings."
   ]
  },
  {
   "cell_type": "markdown",
   "id": "e261b470",
   "metadata": {
    "papermill": {
     "duration": 0.05213,
     "end_time": "2022-05-17T14:20:14.156994",
     "exception": false,
     "start_time": "2022-05-17T14:20:14.104864",
     "status": "completed"
    },
    "tags": []
   },
   "source": [
    "Second highest count of ratings in TV Shows is 'TV-MA', for which the content is for matured audience only.\n"
   ]
  },
  {
   "cell_type": "markdown",
   "id": "fead3de7",
   "metadata": {
    "papermill": {
     "duration": 0.051619,
     "end_time": "2022-05-17T14:20:14.260799",
     "exception": false,
     "start_time": "2022-05-17T14:20:14.209180",
     "status": "completed"
    },
    "tags": []
   },
   "source": [
    "\n",
    "TV Shows has least amount of counts with 'R' ratings."
   ]
  },
  {
   "cell_type": "markdown",
   "id": "f5744154",
   "metadata": {
    "papermill": {
     "duration": 0.05173,
     "end_time": "2022-05-17T14:20:14.364997",
     "exception": false,
     "start_time": "2022-05-17T14:20:14.313267",
     "status": "completed"
    },
    "tags": []
   },
   "source": [
    "#### Analysis released year"
   ]
  },
  {
   "cell_type": "code",
   "execution_count": 26,
   "id": "ea702540",
   "metadata": {
    "execution": {
     "iopub.execute_input": "2022-05-17T14:20:14.471698Z",
     "iopub.status.busy": "2022-05-17T14:20:14.470875Z",
     "iopub.status.idle": "2022-05-17T14:20:14.820428Z",
     "shell.execute_reply": "2022-05-17T14:20:14.819509Z"
    },
    "papermill": {
     "duration": 0.405396,
     "end_time": "2022-05-17T14:20:14.822423",
     "exception": false,
     "start_time": "2022-05-17T14:20:14.417027",
     "status": "completed"
    },
    "tags": []
   },
   "outputs": [
    {
     "data": {
      "text/plain": [
       "<AxesSubplot:xlabel='count', ylabel='release_year'>"
      ]
     },
     "execution_count": 26,
     "metadata": {},
     "output_type": "execute_result"
    },
    {
     "data": {
      "image/png": "[encoded data removed]",
      "text/plain": [
       "<Figure size 864x720 with 1 Axes>"
      ]
     },
     "metadata": {},
     "output_type": "display_data"
    }
   ],
   "source": [
    "plt.figure(figsize=(12,10))\n",
    "sns.set(style='darkgrid')\n",
    "sns.countplot(y='release_year',data=df, order=df['release_year'].value_counts().index[0:15], hue='type',palette='Set1')"
   ]
  },
  {
   "cell_type": "markdown",
   "id": "28780030",
   "metadata": {
    "papermill": {
     "duration": 0.053608,
     "end_time": "2022-05-17T14:20:14.929740",
     "exception": false,
     "start_time": "2022-05-17T14:20:14.876132",
     "status": "completed"
    },
    "tags": []
   },
   "source": [
    "we remark that most of content of netflix release in 2018"
   ]
  },
  {
   "cell_type": "markdown",
   "id": "4fe1968b",
   "metadata": {
    "papermill": {
     "duration": 0.05342,
     "end_time": "2022-05-17T14:20:15.036331",
     "exception": false,
     "start_time": "2022-05-17T14:20:14.982911",
     "status": "completed"
    },
    "tags": []
   },
   "source": [
    "#### Analysis added year"
   ]
  },
  {
   "cell_type": "code",
   "execution_count": 27,
   "id": "7a24d1eb",
   "metadata": {
    "execution": {
     "iopub.execute_input": "2022-05-17T14:20:15.146359Z",
     "iopub.status.busy": "2022-05-17T14:20:15.145527Z",
     "iopub.status.idle": "2022-05-17T14:20:15.480545Z",
     "shell.execute_reply": "2022-05-17T14:20:15.479964Z"
    },
    "papermill": {
     "duration": 0.391912,
     "end_time": "2022-05-17T14:20:15.482395",
     "exception": false,
     "start_time": "2022-05-17T14:20:15.090483",
     "status": "completed"
    },
    "tags": []
   },
   "outputs": [
    {
     "data": {
      "text/plain": [
       "<AxesSubplot:xlabel='count', ylabel='year_add'>"
      ]
     },
     "execution_count": 27,
     "metadata": {},
     "output_type": "execute_result"
    },
    {
     "data": {
      "image/png": "[encoded data removed]",
      "text/plain": [
       "<Figure size 864x720 with 1 Axes>"
      ]
     },
     "metadata": {},
     "output_type": "display_data"
    }
   ],
   "source": [
    "plt.figure(figsize=(12,10))\n",
    "sns.set(style='darkgrid')\n",
    "sns.countplot(y='year_add',data=df, order=df['year_add'].value_counts().index[0:15], hue='type',palette='Set1')"
   ]
  },
  {
   "cell_type": "markdown",
   "id": "2172a139",
   "metadata": {
    "papermill": {
     "duration": 0.054614,
     "end_time": "2022-05-17T14:20:15.591417",
     "exception": false,
     "start_time": "2022-05-17T14:20:15.536803",
     "status": "completed"
    },
    "tags": []
   },
   "source": [
    " most of contient added to netflix from 2016"
   ]
  },
  {
   "cell_type": "markdown",
   "id": "4cf32dbc",
   "metadata": {
    "papermill": {
     "duration": 0.05454,
     "end_time": "2022-05-17T14:20:15.700353",
     "exception": false,
     "start_time": "2022-05-17T14:20:15.645813",
     "status": "completed"
    },
    "tags": []
   },
   "source": [
    "####  Analysis of movies duration "
   ]
  },
  {
   "cell_type": "code",
   "execution_count": 28,
   "id": "c0087eab",
   "metadata": {
    "execution": {
     "iopub.execute_input": "2022-05-17T14:20:15.810078Z",
     "iopub.status.busy": "2022-05-17T14:20:15.809589Z",
     "iopub.status.idle": "2022-05-17T14:20:15.823782Z",
     "shell.execute_reply": "2022-05-17T14:20:15.822901Z"
    },
    "papermill": {
     "duration": 0.071204,
     "end_time": "2022-05-17T14:20:15.825446",
     "exception": false,
     "start_time": "2022-05-17T14:20:15.754242",
     "status": "completed"
    },
    "tags": []
   },
   "outputs": [
    {
     "name": "stderr",
     "output_type": "stream",
     "text": [
      "/opt/conda/lib/python3.7/site-packages/ipykernel_launcher.py:1: SettingWithCopyWarning: \n",
      "A value is trying to be set on a copy of a slice from a DataFrame.\n",
      "Try using .loc[row_indexer,col_indexer] = value instead\n",
      "\n",
      "See the caveats in the documentation: https://pandas.pydata.org/pandas-docs/stable/user_guide/indexing.html#returning-a-view-versus-a-copy\n",
      "  \"\"\"Entry point for launching an IPython kernel.\n",
      "/opt/conda/lib/python3.7/site-packages/ipykernel_launcher.py:2: SettingWithCopyWarning: \n",
      "A value is trying to be set on a copy of a slice from a DataFrame.\n",
      "Try using .loc[row_indexer,col_indexer] = value instead\n",
      "\n",
      "See the caveats in the documentation: https://pandas.pydata.org/pandas-docs/stable/user_guide/indexing.html#returning-a-view-versus-a-copy\n",
      "  \n"
     ]
    },
    {
     "data": {
      "text/plain": [
       "6        91\n",
       "7       125\n",
       "9       104\n",
       "12      127\n",
       "13       91\n",
       "       ... \n",
       "8801     96\n",
       "8802    158\n",
       "8804     88\n",
       "8805     88\n",
       "8806    111\n",
       "Name: duration, Length: 5519, dtype: int64"
      ]
     },
     "execution_count": 28,
     "metadata": {},
     "output_type": "execute_result"
    }
   ],
   "source": [
    "movie_df['duration']=movie_df['duration'].str.replace('min','')\n",
    "movie_df['duration']=movie_df['duration'].astype(int)\n",
    "movie_df['duration']\n"
   ]
  },
  {
   "cell_type": "code",
   "execution_count": 29,
   "id": "c4912b4f",
   "metadata": {
    "execution": {
     "iopub.execute_input": "2022-05-17T14:20:15.937800Z",
     "iopub.status.busy": "2022-05-17T14:20:15.937317Z",
     "iopub.status.idle": "2022-05-17T14:20:16.199816Z",
     "shell.execute_reply": "2022-05-17T14:20:16.198946Z"
    },
    "papermill": {
     "duration": 0.321759,
     "end_time": "2022-05-17T14:20:16.201901",
     "exception": false,
     "start_time": "2022-05-17T14:20:15.880142",
     "status": "completed"
    },
    "tags": []
   },
   "outputs": [
    {
     "data": {
      "text/plain": [
       "<AxesSubplot:xlabel='duration', ylabel='Density'>"
      ]
     },
     "execution_count": 29,
     "metadata": {},
     "output_type": "execute_result"
    },
    {
     "data": {
      "image/png": "[encoded data removed]",
      "text/plain": [
       "<Figure size 576x396 with 1 Axes>"
      ]
     },
     "metadata": {},
     "output_type": "display_data"
    }
   ],
   "source": [
    "sns.set(style='darkgrid')\n",
    "sns.kdeplot(data=movie_df['duration'], shade=True)"
   ]
  },
  {
   "cell_type": "markdown",
   "id": "b5052548",
   "metadata": {
    "papermill": {
     "duration": 0.058886,
     "end_time": "2022-05-17T14:20:16.316779",
     "exception": false,
     "start_time": "2022-05-17T14:20:16.257893",
     "status": "completed"
    },
    "tags": []
   },
   "source": [
    "Most of movie netflix duration between 75-130min"
   ]
  },
  {
   "cell_type": "code",
   "execution_count": 30,
   "id": "de47ef66",
   "metadata": {
    "execution": {
     "iopub.execute_input": "2022-05-17T14:20:16.430304Z",
     "iopub.status.busy": "2022-05-17T14:20:16.430033Z",
     "iopub.status.idle": "2022-05-17T14:20:16.446785Z",
     "shell.execute_reply": "2022-05-17T14:20:16.445992Z"
    },
    "papermill": {
     "duration": 0.075821,
     "end_time": "2022-05-17T14:20:16.448553",
     "exception": false,
     "start_time": "2022-05-17T14:20:16.372732",
     "status": "completed"
    },
    "tags": []
   },
   "outputs": [
    {
     "data": {
      "text/html": [
       "<div>\n",
       "<style scoped>\n",
       "    .dataframe tbody tr th:only-of-type {\n",
       "        vertical-align: middle;\n",
       "    }\n",
       "\n",
       "    .dataframe tbody tr th {\n",
       "        vertical-align: top;\n",
       "    }\n",
       "\n",
       "    .dataframe thead th {\n",
       "        text-align: right;\n",
       "    }\n",
       "</style>\n",
       "<table border=\"1\" class=\"dataframe\">\n",
       "  <thead>\n",
       "    <tr style=\"text-align: right;\">\n",
       "      <th></th>\n",
       "      <th>duration</th>\n",
       "    </tr>\n",
       "    <tr>\n",
       "      <th>release_year</th>\n",
       "      <th></th>\n",
       "    </tr>\n",
       "  </thead>\n",
       "  <tbody>\n",
       "    <tr>\n",
       "      <th>1942</th>\n",
       "      <td>18.000000</td>\n",
       "    </tr>\n",
       "    <tr>\n",
       "      <th>1944</th>\n",
       "      <td>76.000000</td>\n",
       "    </tr>\n",
       "    <tr>\n",
       "      <th>1945</th>\n",
       "      <td>63.000000</td>\n",
       "    </tr>\n",
       "    <tr>\n",
       "      <th>1946</th>\n",
       "      <td>58.000000</td>\n",
       "    </tr>\n",
       "    <tr>\n",
       "      <th>1947</th>\n",
       "      <td>42.000000</td>\n",
       "    </tr>\n",
       "    <tr>\n",
       "      <th>...</th>\n",
       "      <td>...</td>\n",
       "    </tr>\n",
       "    <tr>\n",
       "      <th>2017</th>\n",
       "      <td>97.783133</td>\n",
       "    </tr>\n",
       "    <tr>\n",
       "      <th>2018</th>\n",
       "      <td>98.237741</td>\n",
       "    </tr>\n",
       "    <tr>\n",
       "      <th>2019</th>\n",
       "      <td>97.139706</td>\n",
       "    </tr>\n",
       "    <tr>\n",
       "      <th>2020</th>\n",
       "      <td>95.069869</td>\n",
       "    </tr>\n",
       "    <tr>\n",
       "      <th>2021</th>\n",
       "      <td>101.458150</td>\n",
       "    </tr>\n",
       "  </tbody>\n",
       "</table>\n",
       "<p>72 rows × 1 columns</p>\n",
       "</div>"
      ],
      "text/plain": [
       "                duration\n",
       "release_year            \n",
       "1942           18.000000\n",
       "1944           76.000000\n",
       "1945           63.000000\n",
       "1946           58.000000\n",
       "1947           42.000000\n",
       "...                  ...\n",
       "2017           97.783133\n",
       "2018           98.237741\n",
       "2019           97.139706\n",
       "2020           95.069869\n",
       "2021          101.458150\n",
       "\n",
       "[72 rows x 1 columns]"
      ]
     },
     "execution_count": 30,
     "metadata": {},
     "output_type": "execute_result"
    }
   ],
   "source": [
    "durationbyyear = movie_df.groupby(['release_year']).mean()\n",
    "durationbyyear = durationbyyear.sort_index()\n",
    "durationbyyear"
   ]
  },
  {
   "cell_type": "code",
   "execution_count": 31,
   "id": "d6dc7fd6",
   "metadata": {
    "execution": {
     "iopub.execute_input": "2022-05-17T14:20:16.563524Z",
     "iopub.status.busy": "2022-05-17T14:20:16.562914Z",
     "iopub.status.idle": "2022-05-17T14:20:16.805693Z",
     "shell.execute_reply": "2022-05-17T14:20:16.805002Z"
    },
    "papermill": {
     "duration": 0.302297,
     "end_time": "2022-05-17T14:20:16.807610",
     "exception": false,
     "start_time": "2022-05-17T14:20:16.505313",
     "status": "completed"
    },
    "tags": []
   },
   "outputs": [
    {
     "data": {
      "text/plain": [
       "<function matplotlib.pyplot.show(close=None, block=None)>"
      ]
     },
     "execution_count": 31,
     "metadata": {},
     "output_type": "execute_result"
    },
    {
     "data": {
      "image/png": "[encoded data removed]",
      "text/plain": [
       "<Figure size 1080x432 with 1 Axes>"
      ]
     },
     "metadata": {},
     "output_type": "display_data"
    }
   ],
   "source": [
    "plt.figure(figsize=(15,6))\n",
    "sns.lineplot(x=durationbyyear.index,y=durationbyyear['duration'],data=durationbyyear )\n",
    "#plt.box(on=None)\n",
    "plt.xlabel(\"Year of Released \")\n",
    "plt.ylabel(\"Duration of movie with minutes \")\n",
    "plt.title(\"The variation in the duration of films per year\", fontsize=20, color='red')\n",
    "plt.show"
   ]
  },
  {
   "cell_type": "markdown",
   "id": "2364dfed",
   "metadata": {
    "papermill": {
     "duration": 0.058245,
     "end_time": "2022-05-17T14:20:16.924845",
     "exception": false,
     "start_time": "2022-05-17T14:20:16.866600",
     "status": "completed"
    },
    "tags": []
   },
   "source": [
    "We remark that between 1960-1967 the duration was 175-200 min and after 1967 it become less than befor until 2020 the duration was 100min"
   ]
  },
  {
   "cell_type": "markdown",
   "id": "300ea54a",
   "metadata": {
    "papermill": {
     "duration": 0.058185,
     "end_time": "2022-05-17T14:20:17.041274",
     "exception": false,
     "start_time": "2022-05-17T14:20:16.983089",
     "status": "completed"
    },
    "tags": []
   },
   "source": [
    "#### Analysis of TV Shows season"
   ]
  },
  {
   "cell_type": "code",
   "execution_count": 32,
   "id": "27ed7e74",
   "metadata": {
    "execution": {
     "iopub.execute_input": "2022-05-17T14:20:17.159951Z",
     "iopub.status.busy": "2022-05-17T14:20:17.159139Z",
     "iopub.status.idle": "2022-05-17T14:20:17.166368Z",
     "shell.execute_reply": "2022-05-17T14:20:17.165853Z"
    },
    "papermill": {
     "duration": 0.069383,
     "end_time": "2022-05-17T14:20:17.169054",
     "exception": false,
     "start_time": "2022-05-17T14:20:17.099671",
     "status": "completed"
    },
    "tags": []
   },
   "outputs": [
    {
     "name": "stderr",
     "output_type": "stream",
     "text": [
      "/opt/conda/lib/python3.7/site-packages/ipykernel_launcher.py:1: SettingWithCopyWarning: \n",
      "A value is trying to be set on a copy of a slice from a DataFrame.\n",
      "Try using .loc[row_indexer,col_indexer] = value instead\n",
      "\n",
      "See the caveats in the documentation: https://pandas.pydata.org/pandas-docs/stable/user_guide/indexing.html#returning-a-view-versus-a-copy\n",
      "  \"\"\"Entry point for launching an IPython kernel.\n",
      "/opt/conda/lib/python3.7/site-packages/ipykernel_launcher.py:2: SettingWithCopyWarning: \n",
      "A value is trying to be set on a copy of a slice from a DataFrame.\n",
      "Try using .loc[row_indexer,col_indexer] = value instead\n",
      "\n",
      "See the caveats in the documentation: https://pandas.pydata.org/pandas-docs/stable/user_guide/indexing.html#returning-a-view-versus-a-copy\n",
      "  \n",
      "/opt/conda/lib/python3.7/site-packages/ipykernel_launcher.py:3: SettingWithCopyWarning: \n",
      "A value is trying to be set on a copy of a slice from a DataFrame.\n",
      "Try using .loc[row_indexer,col_indexer] = value instead\n",
      "\n",
      "See the caveats in the documentation: https://pandas.pydata.org/pandas-docs/stable/user_guide/indexing.html#returning-a-view-versus-a-copy\n",
      "  This is separate from the ipykernel package so we can avoid doing imports until\n"
     ]
    }
   ],
   "source": [
    "tv_df['duration']=tv_df['duration'].str.replace(\"Season\",\" \")\n",
    "tv_df['duration']=tv_df['duration'].str.replace(\"s\",\" \")\n",
    "tv_df['duration']=tv_df['duration'].astype(int)\n"
   ]
  },
  {
   "cell_type": "code",
   "execution_count": 33,
   "id": "0dd85967",
   "metadata": {
    "execution": {
     "iopub.execute_input": "2022-05-17T14:20:17.289903Z",
     "iopub.status.busy": "2022-05-17T14:20:17.289509Z",
     "iopub.status.idle": "2022-05-17T14:20:17.294866Z",
     "shell.execute_reply": "2022-05-17T14:20:17.294377Z"
    },
    "papermill": {
     "duration": 0.067179,
     "end_time": "2022-05-17T14:20:17.296488",
     "exception": false,
     "start_time": "2022-05-17T14:20:17.229309",
     "status": "completed"
    },
    "tags": []
   },
   "outputs": [
    {
     "data": {
      "text/plain": [
       "2       1\n",
       "5       1\n",
       "8       9\n",
       "11      1\n",
       "47      1\n",
       "       ..\n",
       "8172    1\n",
       "8214    1\n",
       "8293    1\n",
       "8302    1\n",
       "8599    3\n",
       "Name: duration, Length: 178, dtype: int64"
      ]
     },
     "execution_count": 33,
     "metadata": {},
     "output_type": "execute_result"
    }
   ],
   "source": [
    "tv_df['duration']"
   ]
  },
  {
   "cell_type": "code",
   "execution_count": 34,
   "id": "b6171eaf",
   "metadata": {
    "execution": {
     "iopub.execute_input": "2022-05-17T14:20:17.416175Z",
     "iopub.status.busy": "2022-05-17T14:20:17.415736Z",
     "iopub.status.idle": "2022-05-17T14:20:17.425240Z",
     "shell.execute_reply": "2022-05-17T14:20:17.424583Z"
    },
    "papermill": {
     "duration": 0.071377,
     "end_time": "2022-05-17T14:20:17.426889",
     "exception": false,
     "start_time": "2022-05-17T14:20:17.355512",
     "status": "completed"
    },
    "tags": []
   },
   "outputs": [
    {
     "data": {
      "text/html": [
       "<div>\n",
       "<style scoped>\n",
       "    .dataframe tbody tr th:only-of-type {\n",
       "        vertical-align: middle;\n",
       "    }\n",
       "\n",
       "    .dataframe tbody tr th {\n",
       "        vertical-align: top;\n",
       "    }\n",
       "\n",
       "    .dataframe thead th {\n",
       "        text-align: right;\n",
       "    }\n",
       "</style>\n",
       "<table border=\"1\" class=\"dataframe\">\n",
       "  <thead>\n",
       "    <tr style=\"text-align: right;\">\n",
       "      <th></th>\n",
       "      <th>duration</th>\n",
       "    </tr>\n",
       "    <tr>\n",
       "      <th>release_year</th>\n",
       "      <th></th>\n",
       "    </tr>\n",
       "  </thead>\n",
       "  <tbody>\n",
       "    <tr>\n",
       "      <th>1990</th>\n",
       "      <td>1.000000</td>\n",
       "    </tr>\n",
       "    <tr>\n",
       "      <th>2001</th>\n",
       "      <td>1.000000</td>\n",
       "    </tr>\n",
       "    <tr>\n",
       "      <th>2006</th>\n",
       "      <td>3.666667</td>\n",
       "    </tr>\n",
       "    <tr>\n",
       "      <th>2008</th>\n",
       "      <td>1.000000</td>\n",
       "    </tr>\n",
       "    <tr>\n",
       "      <th>2010</th>\n",
       "      <td>5.000000</td>\n",
       "    </tr>\n",
       "    <tr>\n",
       "      <th>2011</th>\n",
       "      <td>1.000000</td>\n",
       "    </tr>\n",
       "    <tr>\n",
       "      <th>2012</th>\n",
       "      <td>2.000000</td>\n",
       "    </tr>\n",
       "    <tr>\n",
       "      <th>2013</th>\n",
       "      <td>1.000000</td>\n",
       "    </tr>\n",
       "    <tr>\n",
       "      <th>2014</th>\n",
       "      <td>1.250000</td>\n",
       "    </tr>\n",
       "    <tr>\n",
       "      <th>2015</th>\n",
       "      <td>1.363636</td>\n",
       "    </tr>\n",
       "    <tr>\n",
       "      <th>2016</th>\n",
       "      <td>2.200000</td>\n",
       "    </tr>\n",
       "    <tr>\n",
       "      <th>2017</th>\n",
       "      <td>1.578947</td>\n",
       "    </tr>\n",
       "    <tr>\n",
       "      <th>2018</th>\n",
       "      <td>1.055556</td>\n",
       "    </tr>\n",
       "    <tr>\n",
       "      <th>2019</th>\n",
       "      <td>2.692308</td>\n",
       "    </tr>\n",
       "    <tr>\n",
       "      <th>2020</th>\n",
       "      <td>1.487805</td>\n",
       "    </tr>\n",
       "    <tr>\n",
       "      <th>2021</th>\n",
       "      <td>1.793103</td>\n",
       "    </tr>\n",
       "  </tbody>\n",
       "</table>\n",
       "</div>"
      ],
      "text/plain": [
       "              duration\n",
       "release_year          \n",
       "1990          1.000000\n",
       "2001          1.000000\n",
       "2006          3.666667\n",
       "2008          1.000000\n",
       "2010          5.000000\n",
       "2011          1.000000\n",
       "2012          2.000000\n",
       "2013          1.000000\n",
       "2014          1.250000\n",
       "2015          1.363636\n",
       "2016          2.200000\n",
       "2017          1.578947\n",
       "2018          1.055556\n",
       "2019          2.692308\n",
       "2020          1.487805\n",
       "2021          1.793103"
      ]
     },
     "execution_count": 34,
     "metadata": {},
     "output_type": "execute_result"
    }
   ],
   "source": [
    "durationtvbyyear=tv_df.groupby(['release_year']).mean()\n",
    "durationtvbyyear"
   ]
  },
  {
   "cell_type": "code",
   "execution_count": 35,
   "id": "df085dca",
   "metadata": {
    "execution": {
     "iopub.execute_input": "2022-05-17T14:20:17.547054Z",
     "iopub.status.busy": "2022-05-17T14:20:17.546671Z",
     "iopub.status.idle": "2022-05-17T14:20:17.918942Z",
     "shell.execute_reply": "2022-05-17T14:20:17.918357Z"
    },
    "papermill": {
     "duration": 0.434996,
     "end_time": "2022-05-17T14:20:17.921185",
     "exception": false,
     "start_time": "2022-05-17T14:20:17.486189",
     "status": "completed"
    },
    "tags": []
   },
   "outputs": [
    {
     "data": {
      "image/png": "[encoded data removed]",
      "text/plain": [
       "<Figure size 1080x432 with 1 Axes>"
      ]
     },
     "metadata": {},
     "output_type": "display_data"
    }
   ],
   "source": [
    "plt.figure(figsize=(15,6))\n",
    "sns.lineplot(x=durationtvbyyear.index,y=durationtvbyyear['duration'])\n",
    "plt.xlabel('Year of Released')\n",
    "plt.ylabel('Duration of movie by season')\n",
    "plt.title('The variation in the duration of films per year')\n",
    "plt.show()"
   ]
  },
  {
   "cell_type": "markdown",
   "id": "1c31919f",
   "metadata": {
    "papermill": {
     "duration": 0.061321,
     "end_time": "2022-05-17T14:20:18.044969",
     "exception": false,
     "start_time": "2022-05-17T14:20:17.983648",
     "status": "completed"
    },
    "tags": []
   },
   "source": [
    "We remark that between 2008-2011 the duration was 4-5 season and after 2011 it become less than befor until 2020 the duration was approximatly 2 season"
   ]
  },
  {
   "cell_type": "code",
   "execution_count": null,
   "id": "759d018f",
   "metadata": {
    "papermill": {
     "duration": 0.062155,
     "end_time": "2022-05-17T14:20:18.169660",
     "exception": false,
     "start_time": "2022-05-17T14:20:18.107505",
     "status": "completed"
    },
    "tags": []
   },
   "outputs": [],
   "source": []
  }
 ],
 "metadata": {
  "kernelspec": {
   "display_name": "Python 3",
   "language": "python",
   "name": "python3"
  },
  "language_info": {
   "codemirror_mode": {
    "name": "ipython",
    "version": 3
   },
   "file_extension": ".py",
   "mimetype": "text/x-python",
   "name": "python",
   "nbconvert_exporter": "python",
   "pygments_lexer": "ipython3",
   "version": "3.7.12"
  },
  "papermill": {
   "default_parameters": {},
   "duration": 20.782818,
   "end_time": "2022-05-17T14:20:18.951835",
   "environment_variables": {},
   "exception": null,
   "input_path": "__notebook__.ipynb",
   "output_path": "__notebook__.ipynb",
   "parameters": {},
   "start_time": "2022-05-17T14:19:58.169017",
   "version": "2.3.4"
  }
 },
 "nbformat": 4,
 "nbformat_minor": 5
}
